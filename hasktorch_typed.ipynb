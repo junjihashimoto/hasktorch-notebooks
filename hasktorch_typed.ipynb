{
 "cells": [
  {
   "cell_type": "code",
   "execution_count": 1,
   "id": "2274de9b-8d67-4f7f-a39c-3fc25f93eecf",
   "metadata": {},
   "outputs": [
    {
     "data": {
      "text/plain": [
       "Tensor Double [3,3] [[ 1.0000   ,  0.1429   , -0.3333   ],\n",
       "                     [ 0.1429   ,  1.0000   , -0.1111   ],\n",
       "                     [-0.3333   , -0.1111   ,  1.0000   ]]"
      ]
     },
     "metadata": {},
     "output_type": "display_data"
    },
    {
     "data": {
      "text/plain": [
       "[[0.0,0.0,1.0,1.0],[0.5,0.5,1.5,1.5],[2.0,0.0,3.0,1.0]]"
      ]
     },
     "metadata": {},
     "output_type": "display_data"
    }
   ],
   "source": [
    "{-# LANGUAGE AllowAmbiguousTypes #-}\n",
    "{-# LANGUAGE ConstraintKinds #-}\n",
    "{-# LANGUAGE DataKinds #-}\n",
    "{-# LANGUAGE DeriveGeneric #-}\n",
    "{-# LANGUAGE FlexibleContexts #-}\n",
    "{-# LANGUAGE FlexibleInstances #-}\n",
    "{-# LANGUAGE GADTs #-}\n",
    "{-# LANGUAGE MultiParamTypeClasses #-}\n",
    "{-# LANGUAGE PolyKinds #-}\n",
    "{-# LANGUAGE RankNTypes #-}\n",
    "{-# LANGUAGE ScopedTypeVariables #-}\n",
    "{-# LANGUAGE TypeApplications #-}\n",
    "{-# LANGUAGE TypeFamilies #-}\n",
    "{-# LANGUAGE TypeOperators #-}\n",
    "{-# LANGUAGE UndecidableInstances #-}\n",
    "{-# LANGUAGE UndecidableSuperClasses #-}\n",
    "{-# LANGUAGE NoStarIsType #-}\n",
    "{-# LANGUAGE OverloadedLists #-}\n",
    "{-# LANGUAGE PartialTypeSignatures #-}\n",
    "{-# LANGUAGE LiberalTypeSynonyms #-}\n",
    "\n",
    "\n",
    "\n",
    "import qualified Torch as Untyped\n",
    "import qualified Torch.Functional.Internal as Untyped\n",
    "import Torch.Typed\n",
    "import Torch.HList\n",
    "import Torch.Typed.Auxiliary\n",
    "import Torch.Typed.Factories\n",
    "import Torch.Typed.Tensor\n",
    "import qualified Torch.DType as D\n",
    "import Data.Maybe (fromJust)\n",
    "import GHC.Exts\n",
    "import GHC.TypeLits\n",
    "import Data.Proxy\n",
    "import Data.Constraint\n",
    "import Unsafe.Coerce (unsafeCoerce)\n",
    "\n",
    "boxes :: Tensor '(CPU,0) 'Double '[3,4]\n",
    "boxes = fromJust [[0,0,1,1],[0.5,0.5,1.5,1.5],[2,0,3,1]]\n",
    "\n",
    "-- select @0 @0 boxes :: Tensor '(CPU,0) 'Double '[4]\n",
    "\n",
    "unsafeConstraint :: forall c a. (c => a) -> a\n",
    "unsafeConstraint = withDict (dummyDict @c)\n",
    "  where\n",
    "    dummyDict :: forall b. Dict b\n",
    "    dummyDict = unsafeCoerce (Dict :: Dict ())\n",
    "\n",
    "forEach :: forall n a. KnownNat n => (forall i. KnownNat i => Proxy i -> a) -> [a]\n",
    "forEach func = map (\\i -> withNat i func) [0.. (natValI @n -1)]\n",
    "\n",
    "-- forEach :: forall bi d t. (KnownDevice d, KnownDType t, KnownNat bi) => Tensor d t '[bi] -> (forall bo. KnownNat bo => Tensor d t '[bi,5] -> Tensor d t '[bi]\n",
    "\n",
    "maximum :: forall shape'' shape shape' dtype device. (shape'' ~ Broadcast shape shape')\n",
    "        => Tensor device dtype shape -> Tensor device dtype shape' -> Tensor device dtype shape''\n",
    "maximum a b = UnsafeMkTensor $ Untyped.maximum (toDynamic a) (toDynamic b)\n",
    "\n",
    "minimum :: forall shape'' shape shape' dtype device. (shape'' ~ Broadcast shape shape')\n",
    "        => Tensor device dtype shape -> Tensor device dtype shape' -> Tensor device dtype shape''\n",
    "minimum a b = UnsafeMkTensor $ Untyped.minimum (toDynamic a) (toDynamic b)\n",
    "\n",
    "logicalOr :: forall shape'' shape shape' device. (shape'' ~ Broadcast shape shape')\n",
    "        => Tensor device 'Bool shape -> Tensor device 'Bool shape' -> Tensor device 'Bool shape''\n",
    "logicalOr a b = UnsafeMkTensor $ Untyped.logical_or (toDynamic a) (toDynamic b)\n",
    "\n",
    "\n",
    "iou :: forall bi d t n. \n",
    "    ( KnownDevice d\n",
    "    , KnownDType t\n",
    "    , KnownNat bi\n",
    "    , KnownNat n\n",
    "    , BasicArithmeticDTypeIsValid d t\n",
    "    , InRange '[n] 0 0\n",
    "    , InRange '[n] 0 1\n",
    "    , InRange '[n] 0 2\n",
    "    , InRange '[n] 0 3\n",
    "    , InRange '[bi,n] 1 0\n",
    "    , InRange '[bi,n] 1 1\n",
    "    , InRange '[bi,n] 1 2\n",
    "    , InRange '[bi,n] 1 3\n",
    "    )\n",
    "    => Tensor d t '[n] \n",
    "    -> Tensor d t '[bi,n] \n",
    "    -> Tensor d t '[bi]\n",
    "iou source targets = \n",
    "  let sx1 = select @0 @0 source :: Tensor d t '[]\n",
    "      sy1 = select @0 @1 source :: Tensor d t '[]\n",
    "      sx2 = select @0 @2 source :: Tensor d t '[]\n",
    "      sy2 = select @0 @3 source :: Tensor d t '[]\n",
    "      tx1 = select @1 @0 targets :: Tensor d t '[bi]\n",
    "      ty1 = select @1 @1 targets :: Tensor d t '[bi]\n",
    "      tx2 = select @1 @2 targets :: Tensor d t '[bi]\n",
    "      ty2 = select @1 @3 targets :: Tensor d t '[bi]\n",
    "      dx = minimum tx2 sx2 - maximum tx1 sx1 :: Tensor d t '[bi]\n",
    "      dy = minimum ty2 sy2 - maximum ty1 sy1 :: Tensor d t '[bi]  \n",
    "      dxdy = dx * dy :: Tensor d t '[bi]\n",
    "      s = (sx2 - sx1) * (sy2 - sy1)  :: Tensor d t '[]\n",
    "      t = (tx2 - tx1) * (ty2 - ty1) :: Tensor d t '[bi]\n",
    "      ts = t `add` s :: Tensor d t '[bi]\n",
    "  in  dxdy / (ts - dxdy)\n",
    "\n",
    "\n",
    "batchedIou :: forall b0 b1 d t n. \n",
    "    ( KnownDevice d\n",
    "    , KnownDType t\n",
    "    , KnownNat b0\n",
    "    , KnownNat b1\n",
    "    , KnownNat n\n",
    "    , BasicArithmeticDTypeIsValid d t\n",
    "    , InRange '[b0,n] 1 0\n",
    "    , InRange '[b0,n] 1 1\n",
    "    , InRange '[b0,n] 1 2\n",
    "    , InRange '[b0,n] 1 3\n",
    "    , InRange '[b1,n] 1 0\n",
    "    , InRange '[b1,n] 1 1\n",
    "    , InRange '[b1,n] 1 2\n",
    "    , InRange '[b1,n] 1 3\n",
    "    )\n",
    "    => Tensor d t '[b0,n] \n",
    "    -> Tensor d t '[b1,n] \n",
    "    -> Tensor d t '[b0,b1]\n",
    "batchedIou source targets = \n",
    "  let sx1 = select @1 @0 source :: Tensor d t '[b0]\n",
    "      sy1 = select @1 @1 source :: Tensor d t '[b0]\n",
    "      sx2 = select @1 @2 source :: Tensor d t '[b0]\n",
    "      sy2 = select @1 @3 source :: Tensor d t '[b0]\n",
    "      sx1' = reshape sx1 :: Tensor d t '[b0,1]\n",
    "      sy1' = reshape sy1 :: Tensor d t '[b0,1]\n",
    "      sx2' = reshape sx2 :: Tensor d t '[b0,1]\n",
    "      sy2' = reshape sy2 :: Tensor d t '[b0,1]\n",
    "      tx1 = select @1 @0 targets :: Tensor d t '[b1]\n",
    "      ty1 = select @1 @1 targets :: Tensor d t '[b1]\n",
    "      tx2 = select @1 @2 targets :: Tensor d t '[b1]\n",
    "      ty2 = select @1 @3 targets :: Tensor d t '[b1]\n",
    "      tx1' = reshape tx1 :: Tensor d t '[1,b1]\n",
    "      ty1' = reshape ty1 :: Tensor d t '[1,b1]\n",
    "      tx2' = reshape tx2 :: Tensor d t '[1,b1]\n",
    "      ty2' = reshape ty2 :: Tensor d t '[1,b1]\n",
    "      dx = minimum tx2' sx2' - maximum tx1' sx1' :: Tensor d t '[b0,b1]\n",
    "      dy = minimum ty2' sy2' - maximum ty1' sy1' :: Tensor d t '[b0,b1]  \n",
    "      dxdy = dx * dy :: Tensor d t '[b0,b1]\n",
    "      s = (sx2' - sx1') * (sy2' - sy1')  :: Tensor d t '[b0,1]\n",
    "      t = (tx2' - tx1') * (ty2' - ty1') :: Tensor d t '[1,b1]\n",
    "      ts = t `add` s :: Tensor d t '[b0,b1]\n",
    "  in  dxdy / (ts - dxdy)\n",
    "\n",
    "batchedIou boxes boxes\n",
    "Untyped.asValue (toDynamic boxes) :: [[Double]]\n"
   ]
  },
  {
   "cell_type": "code",
   "execution_count": 114,
   "id": "03f6f9e0-a12a-414d-af1d-924395a15977",
   "metadata": {},
   "outputs": [
    {
     "data": {
      "text/plain": [
       "[Tensor Double [4] [ 0.0000,  0.0000,  1.0000   ,  1.0000   ],Tensor Double [4] [ 0.5000   ,  0.5000   ,  1.5000   ,  1.5000   ],Tensor Double [4] [ 2.0000   ,  0.0000,  3.0000   ,  1.0000   ]]"
      ]
     },
     "metadata": {},
     "output_type": "display_data"
    }
   ],
   "source": [
    "splitBatch :: forall b. KnownNat b => Tensor '(CPU,0) 'Double '[b,4] -> [Tensor '(CPU,0) 'Double '[4]]\n",
    "splitBatch ti = forEach @b $ \\(Proxy :: Proxy ii) -> unsafeConstraint @(InRange [b,4] 0 ii) $ select @0 @ii ti\n",
    "\n",
    "splitBatch boxes"
   ]
  },
  {
   "cell_type": "code",
   "execution_count": null,
   "id": "21a43a99-12ea-4b47-969c-c719b1d794fe",
   "metadata": {},
   "outputs": [
    {
     "ename": "",
     "evalue": "",
     "header": "MessageHeader {mhIdentifiers = [\"8caa5d4d-b685-4617-9810-af22e18f494c\"], mhParentHeader = Just (MessageHeader {mhIdentifiers = [\"8caa5d4d-b685-4617-9810-af22e18f494c\"], mhParentHeader = Nothing, mhMetadata = Metadata (fromList [(\"recordTiming\",Bool False),(\"deletedCells\",Array []),(\"cellId\",String \"21a43a99-12ea-4b47-969c-c719b1d794fe\")]), mhMessageId = UUID {uuidToString = \"24d2737a-517f-4c14-bcf5-dbd2bad4d791\"}, mhSessionId = UUID {uuidToString = \"8caa5d4d-b685-4617-9810-af22e18f494c\"}, mhUsername = \"\", mhMsgType = ExecuteRequestMessage, mhBuffers = []}), mhMetadata = Metadata (fromList []), mhMessageId = UUID {uuidToString = \"7592fd09-c179-4955-9880-6baff79b122e\"}, mhSessionId = UUID {uuidToString = \"8caa5d4d-b685-4617-9810-af22e18f494c\"}, mhUsername = \"\", mhMsgType = ExecuteErrorMessage, mhBuffers = []}",
     "output_type": "error",
     "traceback": [
      "<interactive>:1:29: error:\n    • Couldn't match type ‘a’ with ‘Tensor d t '[bo, 4]’\n        because type variable ‘bo’ would escape its scope\n      This (rigid, skolem) type variable is bound by\n        a type expected by the context:\n          forall (bo :: Nat). KnownNat bo => Tensor d t '[bo, 4] -> r\n        at <interactive>:1:29-44\n      Expected type: (a -> r) -> r\n        Actual type: (forall (bo :: Nat). KnownNat bo => Tensor d t '[bo, 4] -> r) -> r\n    • In the first argument of ‘cont’, namely ‘(nms thresh boxes)’\n      In the expression: cont (nms thresh boxes)\n      In an equation for ‘cpsNms’: cpsNms thresh boxes = cont (nms thresh boxes)\n    • Relevant bindings include\n        boxes :: Tensor d t '[bi, 4] (bound at <interactive>:1:15)\n        thresh :: Tensor d t '[] (bound at <interactive>:1:8)\n        cpsNms :: Tensor d t '[] -> Tensor d t '[bi, 4] -> Cont r a (bound at <interactive>:1:1)"
     ]
    }
   ],
   "source": [
    "\n",
    "toBool :: Tensor d 'Bool '[] -> Bool\n",
    "toBool = Untyped.asValue . toDynamic\n",
    "\n",
    "\n",
    "\n",
    "nms :: forall d t bi a. \n",
    "  (KnownNat bi, BasicArithmeticDTypeIsValid d t, ComparisonDTypeIsValid d t, KnownDevice d,KnownDType t)\n",
    "  => Tensor d t '[]\n",
    "  -> Tensor d t '[bi, 4]\n",
    "  -> (forall bo. KnownNat bo => Tensor d t '[bo,4] -> a) -> a\n",
    "nms thresh boxes func = \n",
    "    let to = toDynamic boxes Untyped.! toDynamic deletedIdxes\n",
    "    in withNat (head $ Untyped.shape to) $ \\(Proxy :: Proxy bo) -> func (UnsafeMkTensor @d @t @'[bo,4] to)\n",
    "  where\n",
    "    deletedIdxes = loop [0..(natValI @bi - 1)] (zeros :: Tensor d 'Bool '[bi])\n",
    "    candidates :: Tensor d 'Bool '[bi,bi]\n",
    "    candidates = tril (-1) $ batchedIou boxes boxes `gt` thresh \n",
    "    loop :: [Int] -> Tensor d 'Bool '[bi] -> Tensor d 'Bool '[bi]\n",
    "    loop [] v = v\n",
    "    loop (x:xs) deleted = \n",
    "      withNat x $ \\(Proxy :: Proxy i) -> \n",
    "        if toBool (unsafeConstraint @(InRange '[bi] 0 i) $ select @0 @i deleted :: Tensor d 'Bool '[])\n",
    "          then loop xs deleted \n",
    "          else loop xs (deleted `logicalOr` (unsafeConstraint @(InRange '[bi,bi] 0 i) $ select @0 @i candidates :: Tensor d 'Bool '[bi]))\n",
    "\n",
    "---- Can not define cps style in this case.\n",
    "-- import Control.Monad.Cont\n",
    "-- cpsNms thresh boxes = cont (nms thresh boxes)\n",
    "\n",
    "nms 0.5 boxes (print.shape) --  :: forall n. Tensor '(CPU,0) 'Double '[n,4]\n"
   ]
  },
  {
   "cell_type": "code",
   "execution_count": null,
   "id": "68dc591c-f1a9-4811-b125-ad179a333de7",
   "metadata": {},
   "outputs": [
    {
     "data": {
      "text/plain": [
       "Tensor Double [0,4] []"
      ]
     },
     "metadata": {},
     "output_type": "display_data"
    }
   ],
   "source": [
    "-- A variable length tensor\n",
    "data VTensor d t shape = forall b. KnownNat b => VTensor { unVTensor :: Tensor d t (b : shape) } \n",
    "\n",
    "instance Show (VTensor d t shape) where\n",
    "  show v = case v of \n",
    "    (VTensor (te :: Tensor d t (b : shape))) -> show te -- show $ toDynamic te\n",
    "\n",
    "nms' :: forall d t bi a. \n",
    "  (KnownNat bi, BasicArithmeticDTypeIsValid d t, ComparisonDTypeIsValid d t, KnownDevice d,KnownDType t)\n",
    "  => Tensor d t '[]\n",
    "  -> Tensor d t '[bi, 4]\n",
    "  -> VTensor d t '[4]\n",
    "nms' thresh boxes = \n",
    "    let to = toDynamic boxes Untyped.! toDynamic deletedIdxes\n",
    "    in withNat (head $ Untyped.shape to) $ \\(Proxy :: Proxy n) -> VTensor $ UnsafeMkTensor @d @t @'[n,4] to\n",
    "  where\n",
    "    deletedIdxes = loop [0..(natValI @bi - 1)] (zeros :: Tensor d 'Bool '[bi])\n",
    "    candidates :: Tensor d 'Bool '[bi,bi]\n",
    "    candidates = tril (-1) $ batchedIou boxes boxes `gt` thresh \n",
    "    loop :: [Int] -> Tensor d 'Bool '[bi] -> Tensor d 'Bool '[bi]\n",
    "    loop [] v = v\n",
    "    loop (x:xs) deleted = \n",
    "      withNat x $ \\(Proxy :: Proxy i) -> \n",
    "        if toBool (unsafeConstraint @(InRange '[bi] 0 i) $ select @0 @i deleted :: Tensor d 'Bool '[])\n",
    "          then loop xs deleted \n",
    "          else loop xs (deleted `logicalOr` (unsafeConstraint @(InRange '[bi,bi] 0 i) $ select @0 @i candidates :: Tensor d 'Bool '[bi]))\n",
    "\n",
    "nms' 0.5 boxes "
   ]
  },
  {
   "cell_type": "code",
   "execution_count": 7,
   "id": "91b4334c-dd58-4e3d-91d7-01730136290f",
   "metadata": {},
   "outputs": [
    {
     "data": {
      "text/plain": [
       "Tensor Double [1,4] [[ 0.0000,  0.0000,  0.0000,  0.0000]]"
      ]
     },
     "metadata": {},
     "output_type": "display_data"
    },
    {
     "data": {
      "text/plain": [
       "Tensor Double [4,1] [[ 0.0000],\n",
       "                     [ 0.0000],\n",
       "                     [ 0.0000],\n",
       "                     [ 0.0000]]"
      ]
     },
     "metadata": {},
     "output_type": "display_data"
    }
   ],
   "source": [
    "a = zeros :: Tensor '(CPU,0) 'Double '[4]\n",
    "reshape a :: Tensor '(CPU,0) 'Double '[1,4]\n",
    "reshape a :: Tensor '(CPU,0) 'Double '[4,1]"
   ]
  }
 ],
 "metadata": {
  "kernelspec": {
   "display_name": "Haskell",
   "language": "haskell",
   "name": "haskell"
  },
  "language_info": {
   "codemirror_mode": "ihaskell",
   "file_extension": ".hs",
   "mimetype": "text/x-haskell",
   "name": "haskell",
   "pygments_lexer": "Haskell",
   "version": "8.10.4"
  }
 },
 "nbformat": 4,
 "nbformat_minor": 5
}
