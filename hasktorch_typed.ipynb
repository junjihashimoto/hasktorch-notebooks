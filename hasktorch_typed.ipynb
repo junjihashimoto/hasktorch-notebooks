{
 "cells": [
  {
   "cell_type": "code",
   "execution_count": null,
   "id": "2274de9b-8d67-4f7f-a39c-3fc25f93eecf",
   "metadata": {},
   "outputs": [
    {
     "data": {
      "text/plain": [
       "Tensor Double [4] [ 1.0000   ,  2.0000   ,  3.0000   ,  4.0000   ]"
      ]
     },
     "metadata": {},
     "output_type": "display_data"
    },
    {
     "ename": "",
     "evalue": "",
     "header": "MessageHeader {mhIdentifiers = [\"306bd0ff-6c44-4935-903d-6073a5b8b25c\"], mhParentHeader = Just (MessageHeader {mhIdentifiers = [\"306bd0ff-6c44-4935-903d-6073a5b8b25c\"], mhParentHeader = Nothing, mhMetadata = Metadata (fromList [(\"recordTiming\",Bool False),(\"deletedCells\",Array []),(\"cellId\",String \"2274de9b-8d67-4f7f-a39c-3fc25f93eecf\")]), mhMessageId = UUID {uuidToString = \"e832ccd3-6ef8-42ee-9f7d-4af9865b6585\"}, mhSessionId = UUID {uuidToString = \"306bd0ff-6c44-4935-903d-6073a5b8b25c\"}, mhUsername = \"\", mhMsgType = ExecuteRequestMessage, mhBuffers = []}), mhMetadata = Metadata (fromList []), mhMessageId = UUID {uuidToString = \"4afa3827-0bf5-4877-b90a-8e9623091aa2\"}, mhSessionId = UUID {uuidToString = \"306bd0ff-6c44-4935-903d-6073a5b8b25c\"}, mhUsername = \"\", mhMsgType = ExecuteErrorMessage, mhBuffers = []}",
     "output_type": "error",
     "traceback": [
      "<interactive>:11:14: error:\n    • Cannot instantiate unification variable ‘a0’\n      with a type involving polytypes: (forall (n :: Nat). (KnownNat n, InRange shape dim n) => Proxy n -> r) -> r\n        GHC doesn't yet support impredicative polymorphism\n    • In the expression: error \"Negative Number in withNat!\"\n      In a case alternative: Nothing -> error \"Negative Number in withNat!\"\n      In the expression:\n        case someNatVal (fromIntegral i) of\n          Nothing -> error \"Negative Number in withNat!\"\n          (Just (SomeNat p)) -> f p\n    • Relevant bindings include\n        f :: Tensor d t shape (bound at <interactive>:10:12)\n        withNat' :: Int -> Tensor d t shape -> (forall (n :: Nat). (KnownNat n, InRange shape dim n) => Proxy n -> r) -> r (bound at <interactive>:10:1)\n<interactive>:12:25: error:\n    • Cannot instantiate unification variable ‘t0’\n      with a type involving polytypes: (forall (n :: Nat). (KnownNat n, InRange shape dim n) => Proxy n -> r) -> r\n        GHC doesn't yet support impredicative polymorphism\n    • In the expression: f p\n      In a case alternative: (Just (SomeNat p)) -> f p\n      In the expression:\n        case someNatVal (fromIntegral i) of\n          Nothing -> error \"Negative Number in withNat!\"\n          (Just (SomeNat p)) -> f p\n    • Relevant bindings include\n        f :: Tensor d t shape (bound at <interactive>:10:12)\n        withNat' :: Int -> Tensor d t shape -> (forall (n :: Nat). (KnownNat n, InRange shape dim n) => Proxy n -> r) -> r (bound at <interactive>:10:1)\n<interactive>:12:25: error:\n    • Couldn't match expected type ‘Proxy n -> t0’ with actual type ‘Tensor d t shape’\n    • The function ‘f’ is applied to one argument,\n      but its type ‘Tensor d t shape’ has none\n      In the expression: f p\n      In a case alternative: (Just (SomeNat p)) -> f p\n    • Relevant bindings include\n        p :: Proxy n (bound at <interactive>:12:18)\n        f :: Tensor d t shape (bound at <interactive>:10:12)\n        withNat' :: Int -> Tensor d t shape -> (forall (n :: Nat). (KnownNat n, InRange shape dim n) => Proxy n -> r) -> r (bound at <interactive>:10:1)\n<interactive>:14:25: error:\n    • Couldn't match expected type ‘Tensor '( 'CPU, 0) 'Double '[4]’ with actual type ‘(forall (n :: Nat). (KnownNat n, InRange shape0 dim0 n) => Proxy n -> r0) -> r0’\n    • Probable cause: ‘withNat'’ is applied to too few arguments\n      In the expression: withNat' (fromIntegral i :: Int) (\\ (b :: Proxy ii) -> select @0 @ii ti)\n      In the first argument of ‘map’, namely ‘(\\ i -> withNat' (fromIntegral i :: Int) (\\ (b :: Proxy ii) -> select @0 @ii ti))’\n      In the expression: map (\\ i -> withNat' (fromIntegral i :: Int) (\\ (b :: Proxy ii) -> select @0 @ii ti)) [0 .. (natValI @b - 1)]\n<interactive>:14:57: error:\n    • Couldn't match expected type ‘Tensor d0 t1 shape0’ with actual type ‘Proxy ii -> Tensor '( 'CPU, 0) 'Double '[4]’\n    • The lambda expression ‘\\ (b :: Proxy ii) -> select @0 @ii ti’ has one argument,\n      but its type ‘Tensor d0 t1 shape0’ has none\n      In the second argument of ‘withNat'’, namely ‘(\\ (b :: Proxy ii) -> select @0 @ii ti)’\n      In the expression: withNat' (fromIntegral i :: Int) (\\ (b :: Proxy ii) -> select @0 @ii ti)"
     ]
    }
   ],
   "source": [
    "{-# LANGUAGE AllowAmbiguousTypes #-}\n",
    "{-# LANGUAGE ConstraintKinds #-}\n",
    "{-# LANGUAGE DataKinds #-}\n",
    "{-# LANGUAGE DeriveGeneric #-}\n",
    "{-# LANGUAGE FlexibleContexts #-}\n",
    "{-# LANGUAGE FlexibleInstances #-}\n",
    "{-# LANGUAGE GADTs #-}\n",
    "{-# LANGUAGE MultiParamTypeClasses #-}\n",
    "{-# LANGUAGE PolyKinds #-}\n",
    "{-# LANGUAGE RankNTypes #-}\n",
    "{-# LANGUAGE ScopedTypeVariables #-}\n",
    "{-# LANGUAGE TypeApplications #-}\n",
    "{-# LANGUAGE TypeFamilies #-}\n",
    "{-# LANGUAGE TypeOperators #-}\n",
    "{-# LANGUAGE UndecidableInstances #-}\n",
    "{-# LANGUAGE UndecidableSuperClasses #-}\n",
    "{-# LANGUAGE NoStarIsType #-}\n",
    "{-# LANGUAGE OverloadedLists #-}\n",
    "\n",
    "import qualified Torch as Untyped\n",
    "import Torch.Typed\n",
    "import Torch.HList\n",
    "import Torch.Typed.Auxiliary\n",
    "import Torch.Typed.Factories\n",
    "import Torch.Typed.Tensor\n",
    "import qualified Torch.DType as D\n",
    "import Data.Maybe (fromJust)\n",
    "import GHC.Exts\n",
    "import GHC.TypeLits\n",
    "import Data.Proxy\n",
    "\n",
    "boxes :: Tensor '(CPU,0) 'Double '[3,4]\n",
    "boxes = fromJust [[1,2,3,4],[1,2,3,4],[1,2,3,4]]\n",
    "\n",
    "select @0 @0 boxes :: Tensor '(CPU,0) 'Double '[4]\n",
    "\n",
    "\n",
    "\n",
    "\n",
    "--forEach :: forall b. KnownNat b => Tensor '(CPU,0) 'Double '[b,4] -> [Tensor '(CPU,0) 'Double '[4]]\n",
    "--forEach ti = map (\\i -> withNat (fromIntegral i::Int) (\\(b :: Proxy ii) -> select @0 @ii ti)) [0.. (natValI @b -1)]\n",
    "\n",
    "withNat' ::\n",
    "  Int ->\n",
    "  Tensor d t shape ->\n",
    "  ( forall n.\n",
    "    (KnownNat n, InRange shape dim n) =>\n",
    "    Proxy n ->\n",
    "    r\n",
    "  ) ->\n",
    "  r\n",
    "withNat' i f = case someNatVal (fromIntegral i) of\n",
    "  Nothing -> error \"Negative Number in withNat!\"\n",
    "  (Just (SomeNat p)) -> f p\n",
    "\n",
    "--forEach :: forall b. KnownNat b => Tensor '(CPU,0) 'Double '[b,4] -> [Tensor '(CPU,0) 'Double '[4]]\n",
    "--forEach ti = map (\\i -> withNat' (fromIntegral i::Int) (\\(b :: Proxy ii) -> select @0 @ii ti)) [0.. (natValI @b -1)]\n",
    "\n",
    "{-\n",
    "forEach :: forall b. KnownNat b => Tensor '(CPU,0) 'Double '[b,4] -> [Tensor '(CPU,0) 'Double '[4]]\n",
    "forEach ti = \n",
    "    let t = toDynamic ti\n",
    "    in UnsafeMkTensor '(CPU,0) 'Double '[4] (ti\n",
    "-}\n",
    "\n",
    "\n",
    "-- forEach :: forall bi d t. (KnownDevice d, KnownDType t, KnownNat bi) => Tensor d t '[bi] -> (forall bo. KnownNat bo => Tensor d t '[bi,5] -> Tensor d t '[bi]\n",
    "\n",
    "iou :: forall bi d t. (KnownDevice d, KnownDType t, KnownNat bi) => Tensor d t '[bi] -> Tensor d t '[bi,5] -> Tensor d t '[bi]\n",
    "iou = undefined\n",
    "\n",
    "nms :: forall bi d t. (KnownDevice d, KnownDType t, KnownNat bi) => Tensor d t '[bi,5] -> (forall bo. KnownNat bo => Tensor d t '[bo,5])\n",
    "nms = undefined"
   ]
  }
 ],
 "metadata": {
  "kernelspec": {
   "display_name": "Haskell",
   "language": "haskell",
   "name": "haskell"
  },
  "language_info": {
   "codemirror_mode": "ihaskell",
   "file_extension": ".hs",
   "mimetype": "text/x-haskell",
   "name": "haskell",
   "pygments_lexer": "Haskell",
   "version": "8.10.4"
  }
 },
 "nbformat": 4,
 "nbformat_minor": 5
}
