{
 "cells": [
  {
   "cell_type": "code",
   "execution_count": 1,
   "id": "2274de9b-8d67-4f7f-a39c-3fc25f93eecf",
   "metadata": {},
   "outputs": [
    {
     "data": {
      "text/plain": [
       "[W CUDAFunctions.cpp:112] Warning: CUDA initialization: CUDA unknown error - this may be due to an incorrectly set up environment, e.g. changing env variable CUDA_VISIBLE_DEVICES after program start. Setting the available devices to be zero. (function operator())\n",
       "Tensor Double [3,3] [[ 1.0000   ,  0.1429   , -0.3333   ],\n",
       "                     [ 0.1429   ,  1.0000   , -0.1111   ],\n",
       "                     [-0.3333   , -0.1111   ,  1.0000   ]]"
      ]
     },
     "metadata": {},
     "output_type": "display_data"
    },
    {
     "data": {
      "text/plain": [
       "[[0.0,0.0,1.0,1.0],[0.5,0.5,1.5,1.5],[2.0,0.0,3.0,1.0]]"
      ]
     },
     "metadata": {},
     "output_type": "display_data"
    }
   ],
   "source": [
    "{-# LANGUAGE AllowAmbiguousTypes #-}\n",
    "{-# LANGUAGE ConstraintKinds #-}\n",
    "{-# LANGUAGE DataKinds #-}\n",
    "{-# LANGUAGE DeriveGeneric #-}\n",
    "{-# LANGUAGE FlexibleContexts #-}\n",
    "{-# LANGUAGE FlexibleInstances #-}\n",
    "{-# LANGUAGE GADTs #-}\n",
    "{-# LANGUAGE MultiParamTypeClasses #-}\n",
    "{-# LANGUAGE PolyKinds #-}\n",
    "{-# LANGUAGE RankNTypes #-}\n",
    "{-# LANGUAGE ScopedTypeVariables #-}\n",
    "{-# LANGUAGE TypeApplications #-}\n",
    "{-# LANGUAGE TypeFamilies #-}\n",
    "{-# LANGUAGE TypeOperators #-}\n",
    "{-# LANGUAGE UndecidableInstances #-}\n",
    "{-# LANGUAGE UndecidableSuperClasses #-}\n",
    "{-# LANGUAGE NoStarIsType #-}\n",
    "{-# LANGUAGE OverloadedLists #-}\n",
    "{-# LANGUAGE PartialTypeSignatures #-}\n",
    "{-# LANGUAGE LiberalTypeSynonyms #-}\n",
    "\n",
    "\n",
    "\n",
    "import qualified Torch as Untyped\n",
    "import qualified Torch.Functional.Internal as Untyped\n",
    "import Torch.Typed\n",
    "import Torch.HList\n",
    "import Torch.Typed.Auxiliary\n",
    "import Torch.Typed.Factories\n",
    "import Torch.Typed.Tensor\n",
    "import qualified Torch.DType as D\n",
    "import Data.Maybe (fromJust)\n",
    "import GHC.Exts\n",
    "import GHC.TypeLits\n",
    "import Data.Proxy\n",
    "import Data.Constraint\n",
    "import Unsafe.Coerce (unsafeCoerce)\n",
    "\n",
    "boxes :: Tensor '(CPU,0) 'Double '[3,4]\n",
    "boxes = fromJust [[0,0,1,1],[0.5,0.5,1.5,1.5],[2,0,3,1]]\n",
    "\n",
    "-- select @0 @0 boxes :: Tensor '(CPU,0) 'Double '[4]\n",
    "\n",
    "unsafeConstraint :: forall c a. (c => a) -> a\n",
    "unsafeConstraint = withDict (dummyDict @c)\n",
    "  where\n",
    "    dummyDict :: forall b. Dict b\n",
    "    dummyDict = unsafeCoerce (Dict :: Dict ())\n",
    "\n",
    "forEach :: forall n a. KnownNat n => (forall i. KnownNat i => Proxy i -> a) -> [a]\n",
    "forEach func = map (\\i -> withNat i func) [0.. (natValI @n -1)]\n",
    "\n",
    "-- forEach :: forall bi d t. (KnownDevice d, KnownDType t, KnownNat bi) => Tensor d t '[bi] -> (forall bo. KnownNat bo => Tensor d t '[bi,5] -> Tensor d t '[bi]\n",
    "\n",
    "maximum :: forall shape'' shape shape' dtype device. (shape'' ~ Broadcast shape shape')\n",
    "        => Tensor device dtype shape -> Tensor device dtype shape' -> Tensor device dtype shape''\n",
    "maximum a b = UnsafeMkTensor $ Untyped.maximum (toDynamic a) (toDynamic b)\n",
    "\n",
    "minimum :: forall shape'' shape shape' dtype device. (shape'' ~ Broadcast shape shape')\n",
    "        => Tensor device dtype shape -> Tensor device dtype shape' -> Tensor device dtype shape''\n",
    "minimum a b = UnsafeMkTensor $ Untyped.minimum (toDynamic a) (toDynamic b)\n",
    "\n",
    "logicalOr :: forall shape'' shape shape' device. (shape'' ~ Broadcast shape shape')\n",
    "        => Tensor device 'Bool shape -> Tensor device 'Bool shape' -> Tensor device 'Bool shape''\n",
    "logicalOr a b = UnsafeMkTensor $ Untyped.logical_or (toDynamic a) (toDynamic b)\n",
    "\n",
    "logicalAnd :: forall shape'' shape shape' device. (shape'' ~ Broadcast shape shape')\n",
    "        => Tensor device 'Bool shape -> Tensor device 'Bool shape' -> Tensor device 'Bool shape''\n",
    "logicalAnd a b = UnsafeMkTensor $ Untyped.logical_and (toDynamic a) (toDynamic b)\n",
    "\n",
    "iou :: forall bi d t n. \n",
    "    ( KnownDevice d\n",
    "    , KnownDType t\n",
    "    , KnownNat bi\n",
    "    , KnownNat n\n",
    "    , BasicArithmeticDTypeIsValid d t\n",
    "    , InRange '[n] 0 0\n",
    "    , InRange '[n] 0 1\n",
    "    , InRange '[n] 0 2\n",
    "    , InRange '[n] 0 3\n",
    "    , InRange '[bi,n] 1 0\n",
    "    , InRange '[bi,n] 1 1\n",
    "    , InRange '[bi,n] 1 2\n",
    "    , InRange '[bi,n] 1 3\n",
    "    )\n",
    "    => Tensor d t '[n] \n",
    "    -> Tensor d t '[bi,n] \n",
    "    -> Tensor d t '[bi]\n",
    "iou source targets = \n",
    "  let sx1 = select @0 @0 source :: Tensor d t '[]\n",
    "      sy1 = select @0 @1 source :: Tensor d t '[]\n",
    "      sx2 = select @0 @2 source :: Tensor d t '[]\n",
    "      sy2 = select @0 @3 source :: Tensor d t '[]\n",
    "      tx1 = select @1 @0 targets :: Tensor d t '[bi]\n",
    "      ty1 = select @1 @1 targets :: Tensor d t '[bi]\n",
    "      tx2 = select @1 @2 targets :: Tensor d t '[bi]\n",
    "      ty2 = select @1 @3 targets :: Tensor d t '[bi]\n",
    "      dx = minimum tx2 sx2 - maximum tx1 sx1 :: Tensor d t '[bi]\n",
    "      dy = minimum ty2 sy2 - maximum ty1 sy1 :: Tensor d t '[bi]  \n",
    "      dxdy = dx * dy :: Tensor d t '[bi]\n",
    "      s = (sx2 - sx1) * (sy2 - sy1)  :: Tensor d t '[]\n",
    "      t = (tx2 - tx1) * (ty2 - ty1) :: Tensor d t '[bi]\n",
    "      ts = t `add` s :: Tensor d t '[bi]\n",
    "  in  dxdy / (ts - dxdy)\n",
    "\n",
    "\n",
    "batchedIou :: forall b0 b1 d t n. \n",
    "    ( KnownDevice d\n",
    "    , KnownDType t\n",
    "    , KnownNat b0\n",
    "    , KnownNat b1\n",
    "    , KnownNat n\n",
    "    , BasicArithmeticDTypeIsValid d t\n",
    "    , InRange '[b0,n] 1 0\n",
    "    , InRange '[b0,n] 1 1\n",
    "    , InRange '[b0,n] 1 2\n",
    "    , InRange '[b0,n] 1 3\n",
    "    , InRange '[b1,n] 1 0\n",
    "    , InRange '[b1,n] 1 1\n",
    "    , InRange '[b1,n] 1 2\n",
    "    , InRange '[b1,n] 1 3\n",
    "    )\n",
    "    => Tensor d t '[b0,n] \n",
    "    -> Tensor d t '[b1,n] \n",
    "    -> Tensor d t '[b0,b1]\n",
    "batchedIou source targets = \n",
    "  let sx1 = select @1 @0 source :: Tensor d t '[b0]\n",
    "      sy1 = select @1 @1 source :: Tensor d t '[b0]\n",
    "      sx2 = select @1 @2 source :: Tensor d t '[b0]\n",
    "      sy2 = select @1 @3 source :: Tensor d t '[b0]\n",
    "      sx1' = reshape sx1 :: Tensor d t '[b0,1]\n",
    "      sy1' = reshape sy1 :: Tensor d t '[b0,1]\n",
    "      sx2' = reshape sx2 :: Tensor d t '[b0,1]\n",
    "      sy2' = reshape sy2 :: Tensor d t '[b0,1]\n",
    "      tx1 = select @1 @0 targets :: Tensor d t '[b1]\n",
    "      ty1 = select @1 @1 targets :: Tensor d t '[b1]\n",
    "      tx2 = select @1 @2 targets :: Tensor d t '[b1]\n",
    "      ty2 = select @1 @3 targets :: Tensor d t '[b1]\n",
    "      tx1' = reshape tx1 :: Tensor d t '[1,b1]\n",
    "      ty1' = reshape ty1 :: Tensor d t '[1,b1]\n",
    "      tx2' = reshape tx2 :: Tensor d t '[1,b1]\n",
    "      ty2' = reshape ty2 :: Tensor d t '[1,b1]\n",
    "      dx = minimum tx2' sx2' - maximum tx1' sx1' :: Tensor d t '[b0,b1]\n",
    "      dy = minimum ty2' sy2' - maximum ty1' sy1' :: Tensor d t '[b0,b1]  \n",
    "      dxdy = dx * dy :: Tensor d t '[b0,b1]\n",
    "      s = (sx2' - sx1') * (sy2' - sy1')  :: Tensor d t '[b0,1]\n",
    "      t = (tx2' - tx1') * (ty2' - ty1') :: Tensor d t '[1,b1]\n",
    "      ts = t `add` s :: Tensor d t '[b0,b1]\n",
    "  in  dxdy / (ts - dxdy)\n",
    "\n",
    "batchedIou boxes boxes\n",
    "Untyped.asValue (toDynamic boxes) :: [[Double]]\n"
   ]
  },
  {
   "cell_type": "code",
   "execution_count": 2,
   "id": "03f6f9e0-a12a-414d-af1d-924395a15977",
   "metadata": {},
   "outputs": [
    {
     "data": {
      "text/plain": [
       "[Tensor Double [4] [ 0.0000,  0.0000,  1.0000   ,  1.0000   ],Tensor Double [4] [ 0.5000   ,  0.5000   ,  1.5000   ,  1.5000   ],Tensor Double [4] [ 2.0000   ,  0.0000,  3.0000   ,  1.0000   ]]"
      ]
     },
     "metadata": {},
     "output_type": "display_data"
    }
   ],
   "source": [
    "splitBatch :: forall b. KnownNat b => Tensor '(CPU,0) 'Double '[b,4] -> [Tensor '(CPU,0) 'Double '[4]]\n",
    "splitBatch ti = forEach @b $ \\(Proxy :: Proxy ii) -> unsafeConstraint @(InRange [b,4] 0 ii) $ select @0 @ii ti\n",
    "\n",
    "splitBatch boxes"
   ]
  },
  {
   "cell_type": "code",
   "execution_count": 7,
   "id": "91b4334c-dd58-4e3d-91d7-01730136290f",
   "metadata": {},
   "outputs": [
    {
     "data": {
      "text/plain": [
       "Tensor Double [1,4] [[ 0.0000,  0.0000,  0.0000,  0.0000]]"
      ]
     },
     "metadata": {},
     "output_type": "display_data"
    },
    {
     "data": {
      "text/plain": [
       "Tensor Double [4,1] [[ 0.0000],\n",
       "                     [ 0.0000],\n",
       "                     [ 0.0000],\n",
       "                     [ 0.0000]]"
      ]
     },
     "metadata": {},
     "output_type": "display_data"
    }
   ],
   "source": [
    "a = zeros :: Tensor '(CPU,0) 'Double '[4]\n",
    "reshape a :: Tensor '(CPU,0) 'Double '[1,4]\n",
    "reshape a :: Tensor '(CPU,0) 'Double '[4,1]"
   ]
  },
  {
   "cell_type": "code",
   "execution_count": null,
   "id": "68dc591c-f1a9-4811-b125-ad179a333de7",
   "metadata": {},
   "outputs": [
    {
     "data": {
      "text/plain": [
       "Tensor Double [3,4] [[ 0.0000,  0.0000,  1.0000   ,  1.0000   ],\n",
       "                     [ 0.5000   ,  0.5000   ,  1.5000   ,  1.5000   ],\n",
       "                     [ 2.0000   ,  0.0000,  3.0000   ,  1.0000   ]]"
      ]
     },
     "metadata": {},
     "output_type": "display_data"
    },
    {
     "data": {
      "text/plain": [
       "Tensor Double [3,3] [[ 1.0000   ,  0.1429   , -0.3333   ],\n",
       "                     [ 0.1429   ,  1.0000   , -0.1111   ],\n",
       "                     [-0.3333   , -0.1111   ,  1.0000   ]]"
      ]
     },
     "metadata": {},
     "output_type": "display_data"
    },
    {
     "data": {
      "text/plain": [
       "Tensor Double [2,4] [[ 0.5000   ,  0.5000   ,  1.5000   ,  1.5000   ],\n",
       "                     [ 2.0000   ,  0.0000,  3.0000   ,  1.0000   ]]"
      ]
     },
     "metadata": {},
     "output_type": "display_data"
    },
    {
     "data": {
      "text/html": [
       "<style>/* Styles used for the Hoogle display in the pager */\n",
       ".hoogle-doc {\n",
       "display: block;\n",
       "padding-bottom: 1.3em;\n",
       "padding-left: 0.4em;\n",
       "}\n",
       ".hoogle-code {\n",
       "display: block;\n",
       "font-family: monospace;\n",
       "white-space: pre;\n",
       "}\n",
       ".hoogle-text {\n",
       "display: block;\n",
       "}\n",
       ".hoogle-name {\n",
       "color: green;\n",
       "font-weight: bold;\n",
       "}\n",
       ".hoogle-head {\n",
       "font-weight: bold;\n",
       "}\n",
       ".hoogle-sub {\n",
       "display: block;\n",
       "margin-left: 0.4em;\n",
       "}\n",
       ".hoogle-package {\n",
       "font-weight: bold;\n",
       "font-style: italic;\n",
       "}\n",
       ".hoogle-module {\n",
       "font-weight: bold;\n",
       "}\n",
       ".hoogle-class {\n",
       "font-weight: bold;\n",
       "}\n",
       ".get-type {\n",
       "color: green;\n",
       "font-weight: bold;\n",
       "font-family: monospace;\n",
       "display: block;\n",
       "white-space: pre-wrap;\n",
       "}\n",
       ".show-type {\n",
       "color: green;\n",
       "font-weight: bold;\n",
       "font-family: monospace;\n",
       "margin-left: 1em;\n",
       "}\n",
       ".mono {\n",
       "font-family: monospace;\n",
       "display: block;\n",
       "}\n",
       ".err-msg {\n",
       "color: red;\n",
       "font-style: italic;\n",
       "font-family: monospace;\n",
       "white-space: pre;\n",
       "display: block;\n",
       "}\n",
       "#unshowable {\n",
       "color: red;\n",
       "font-weight: bold;\n",
       "}\n",
       ".err-msg.in.collapse {\n",
       "padding-top: 0.7em;\n",
       "}\n",
       ".highlight-code {\n",
       "white-space: pre;\n",
       "font-family: monospace;\n",
       "}\n",
       ".suggestion-warning { \n",
       "font-weight: bold;\n",
       "color: rgb(200, 130, 0);\n",
       "}\n",
       ".suggestion-error { \n",
       "font-weight: bold;\n",
       "color: red;\n",
       "}\n",
       ".suggestion-name {\n",
       "font-weight: bold;\n",
       "}\n",
       "</style><span class='get-type'>diffTime :: forall (device :: (DeviceType, Nat)) (n :: Nat) a. (RandDTypeIsValid device 'Double, KnownNat n, KnownDevice device) => Integer -> (Tensor device 'Double '[n, 4] -> IO a) -> IO ()</span>"
      ],
      "text/plain": [
       "diffTime :: forall (device :: (DeviceType, Nat)) (n :: Nat) a. (RandDTypeIsValid device 'Double, KnownNat n, KnownDevice device) => Integer -> (Tensor device 'Double '[n, 4] -> IO a) -> IO ()"
      ]
     },
     "metadata": {},
     "output_type": "display_data"
    },
    {
     "data": {
      "text/plain": [
       "Computation time with CPU : 0.000 sec\n",
       "Computation time with CPU : 0.009 sec\n",
       "Computation time with CPU : 0.071 sec\n",
       "Computation time with CPU : 0.140 sec"
      ]
     },
     "metadata": {},
     "output_type": "display_data"
    }
   ],
   "source": [
    "{-# LANGUAGE BangPatterns #-}\n",
    "\n",
    "import qualified Debug.Trace as DT\n",
    "import System.CPUTime\n",
    "import Control.Monad\n",
    "import Text.Printf\n",
    "\n",
    "\n",
    "-- A variable length tensor\n",
    "data VTensor d t shape = forall b. KnownNat b => VTensor { unVTensor :: Tensor d t (b : shape) } \n",
    "\n",
    "instance Show (VTensor d t shape) where\n",
    "  show v = case v of \n",
    "    (VTensor (te :: Tensor d t (b : shape))) -> show te -- show $ toDynamic te\n",
    "\n",
    "nms :: forall d t bi a. \n",
    "  (KnownNat bi, BasicArithmeticDTypeIsValid d t, ComparisonDTypeIsValid d t, KnownDevice d,KnownDType t)\n",
    "  => Tensor d t '[]\n",
    "  -> Tensor d t '[bi, 4]\n",
    "  -> VTensor d t '[4]\n",
    "nms thresh boxes = \n",
    "    let to = toDynamic boxes Untyped.! toDynamic (logicalNot deletedIdxes)\n",
    "    in withNat (head $ Untyped.shape to) $ \\(Proxy :: Proxy n) -> VTensor $ UnsafeMkTensor @d @t @'[n,4] to\n",
    "  where\n",
    "    deletedIdxes = loop [0..(natValI @bi - 1)] (zeros :: Tensor d 'Bool '[bi])\n",
    "    candidates :: Tensor d 'Bool '[bi,bi]\n",
    "    candidates = tril (-1) $ batchedIou boxes boxes `gt` thresh \n",
    "    loop :: [Int] -> Tensor d 'Bool '[bi] -> Tensor d 'Bool '[bi]\n",
    "    loop [] v = v\n",
    "    loop (x:xs) deleted = -- DT.trace (\"$ deleted : \" ++ show deleted ++ \" : candidate : \" ++ show candidates) $ \n",
    "      withNat x $ \\(Proxy :: Proxy i) -> \n",
    "        if toBool (unsafeConstraint @(InRange '[bi] 0 i) $ select @0 @i deleted :: Tensor d 'Bool '[])\n",
    "          then loop xs deleted \n",
    "          else loop xs (deleted `logicalOr` (unsafeConstraint @(InRange '[bi,bi] 0 i) $ select @0 @i candidates :: Tensor d 'Bool '[bi]))\n",
    "\n",
    "\n",
    "\n",
    "boxes\n",
    "\n",
    "batchedIou boxes boxes\n",
    "\n",
    "nms 0.1 boxes\n",
    "\n",
    "--https://discuss.pytorch.org/t/nms-implementation-slower-in-pytorch-compared-to-numpy/36665/8\n",
    "\n",
    "--diffTime :: forall device n a. (KnownNat n, _) => Integer -> (Tensor device 'Double '[n,4] -> IO a) -> IO ()\n",
    "diffTime :: forall (device :: (DeviceType, Nat)) (n :: Nat) a.\n",
    "  (RandDTypeIsValid device 'Double, KnownNat n, KnownDevice device)\n",
    "  => Integer\n",
    "  -> (Tensor device 'Double '[n, 4] -> IO a)\n",
    "  -> IO ()\n",
    "diffTime n func = do\n",
    "    d <- forM [0..(n-1)] $ \\_ -> do\n",
    "        boxes <- randn :: IO (Tensor device 'Double '[n,4])\n",
    "        s <- getCPUTime\n",
    "        !r <- func boxes\n",
    "        e <- getCPUTime\n",
    "        return (e-s)\n",
    "    let diff = ((fromIntegral (sum d `Prelude.div` n):: Double) / 10^12)\n",
    "    printf \"Computation time with %s : %0.3f sec\\n\" (show (deviceType $ deviceVal @device)) (diff :: Double)\n",
    "\n",
    ":t diffTime\n",
    "\n",
    "type NumBoxes = 3000\n",
    "num_loop = 10\n",
    "\n",
    "forM_ [100,1000] $ \\i -> do\n",
    "  withNat i $ \\(Proxy :: Proxy num_boxes) -> do\n",
    "    -- print (\"The number of boxes : \" ++ (show (natValI @num_boxes)))\n",
    "    diffTime @'(CPU,0) @num_boxes num_loop ( \\v -> return $ batchedIou v v) \n",
    "    diffTime @'(CPU,0) @num_boxes num_loop ( return . nms 0.1 ) \n",
    "\n",
    "--    diffTime @'(CUDA,0) @num_boxes num_loop ( \\v -> return $ batchedIou v v) \n",
    "--    diffTime @'(CUDA,0) @num_boxes num_loop ( return . nms 0.1 ) \n"
   ]
  },
  {
   "cell_type": "code",
   "execution_count": null,
   "id": "c26b2ca8-56d2-4273-a1d2-548dc0fc6fc4",
   "metadata": {},
   "outputs": [
    {
     "data": {
      "text/plain": [
       "Tensor Double [2,4] [[ 0.5000   ,  0.5000   ,  1.5000   ,  1.5000   ],\n",
       "                     [ 2.0000   ,  0.0000,  3.0000   ,  1.0000   ]]"
      ]
     },
     "metadata": {},
     "output_type": "display_data"
    },
    {
     "data": {
      "text/plain": [
       "Tensor Double [2,4] [[ 0.5000   ,  0.5000   ,  1.5000   ,  1.5000   ],\n",
       "                     [ 2.0000   ,  0.0000,  3.0000   ,  1.0000   ]]"
      ]
     },
     "metadata": {},
     "output_type": "display_data"
    },
    {
     "data": {
      "text/plain": [
       "Computation time with CPU : 0.000 sec\n",
       "Computation time with CPU : 0.014 sec\n",
       "Computation time with CPU : 0.019 sec\n",
       "Computation time with CPU : 0.074 sec\n",
       "Computation time with CPU : 0.134 sec\n",
       "Computation time with CPU : 0.142 sec"
      ]
     },
     "metadata": {},
     "output_type": "display_data"
    }
   ],
   "source": [
    "nms2 :: forall d t bi a. \n",
    "  (KnownNat bi, BasicArithmeticDTypeIsValid d t, ComparisonDTypeIsValid d t, KnownDevice d,KnownDType t)\n",
    "  => Tensor d t '[]\n",
    "  -> Tensor d t '[bi, 4]\n",
    "  -> VTensor d t '[4]\n",
    "nms2 thresh boxes = \n",
    "    let to = toDynamic boxes Untyped.! toDynamic (logicalNot deletedIdxes)\n",
    "    in withNat (head $ Untyped.shape to) $ \\(Proxy :: Proxy n) -> VTensor $ UnsafeMkTensor @d @t @'[n,4] to\n",
    "  where\n",
    "    deletedIdxes = loop [0..(natValI @bi - 1)] (zeros :: Tensor d 'Bool '[bi])\n",
    "    candidates :: Tensor d 'Bool '[bi,bi]\n",
    "    candidates = tril (-1) $ batchedIou boxes boxes `gt` thresh \n",
    "    loop :: [Int] -> Tensor d 'Bool '[bi] -> Tensor d 'Bool '[bi]\n",
    "    loop [] v = v\n",
    "    loop (x:xs) deleted = -- DT.trace (\"$ deleted : \" ++ show deleted ++ \" : candidate : \" ++ show candidates) $ \n",
    "      withNat x $ \\(Proxy :: Proxy i) -> \n",
    "          loop xs $ deleted \n",
    "                       `logicalOr`\n",
    "                          ((unsafeConstraint @(InRange '[bi] 0 i) $ logicalNot (select @0 @i deleted) :: Tensor d 'Bool '[])\n",
    "                              `logicalAnd` \n",
    "                                  (unsafeConstraint @(InRange '[bi,bi] 0 i) $ select @0 @i candidates :: Tensor d 'Bool '[bi]))\n",
    "\n",
    "nms 0.1 boxes\n",
    "nms2 0.1 boxes\n",
    "\n",
    "forM_ [100,1000] $ \\i -> do\n",
    "  withNat i $ \\(Proxy :: Proxy num_boxes) -> do\n",
    "    -- print (\"The number of boxes : \" ++ (show (natValI @num_boxes)))\n",
    "    diffTime @'(CPU,0) @num_boxes num_loop ( \\v -> return $ batchedIou v v) \n",
    "    diffTime @'(CPU,0) @num_boxes num_loop ( return . nms 0.1 ) \n",
    "    diffTime @'(CPU,0) @num_boxes num_loop ( return . nms2 0.1 ) \n",
    "\n",
    "--    diffTime @'(CUDA,0) @num_boxes num_loop ( \\v -> return $ batchedIou v v) \n",
    "--    diffTime @'(CUDA,0) @num_boxes num_loop ( return . nms 0.1 ) \n",
    "--    diffTime @'(CUDA,0) @num_boxes num_loop ( return . nms2 0.1 ) "
   ]
  },
  {
   "cell_type": "code",
   "execution_count": null,
   "id": "29cc0899-4859-4eee-bacc-d3489f3329dd",
   "metadata": {},
   "outputs": [],
   "source": [
    "\n",
    "\n",
    "nmsWithClass :: forall d t bi a. \n",
    "  (KnownNat bi, BasicArithmeticDTypeIsValid d t, ComparisonDTypeIsValid d t, KnownDevice d,KnownDType t)\n",
    "  => Tensor d t '[]\n",
    "  -> Tensor d t '[bi, 6]\n",
    "  -> Double\n",
    "  -> VTensor d t '[6]\n",
    "nmsWithClass thresh boxes offset = undefined\n",
    "\n"
   ]
  },
  {
   "cell_type": "code",
   "execution_count": null,
   "id": "11447b72-5073-432b-bf27-b3a23f71955b",
   "metadata": {},
   "outputs": [
    {
     "ename": "",
     "evalue": "",
     "header": "MessageHeader {mhIdentifiers = [\"33ef7423-b49b-4bad-8e8c-a043e333c018\"], mhParentHeader = Just (MessageHeader {mhIdentifiers = [\"33ef7423-b49b-4bad-8e8c-a043e333c018\"], mhParentHeader = Nothing, mhMetadata = Metadata (fromList [(\"recordTiming\",Bool False),(\"deletedCells\",Array []),(\"cellId\",String \"11447b72-5073-432b-bf27-b3a23f71955b\")]), mhMessageId = UUID {uuidToString = \"5f9398b6-1811-4167-b87b-e2fc9789fdd5\"}, mhSessionId = UUID {uuidToString = \"33ef7423-b49b-4bad-8e8c-a043e333c018\"}, mhUsername = \"\", mhMsgType = ExecuteRequestMessage, mhBuffers = []}), mhMetadata = Metadata (fromList []), mhMessageId = UUID {uuidToString = \"dbf5418e-43fe-428b-abee-ea87ed0c2330\"}, mhSessionId = UUID {uuidToString = \"33ef7423-b49b-4bad-8e8c-a043e333c018\"}, mhUsername = \"\", mhMsgType = ExecuteErrorMessage, mhBuffers = []}",
     "output_type": "error",
     "traceback": [
      "<interactive>:5:29: error:\n    • Couldn't match expected type ‘Untyped.Tensor’ with actual type ‘Bool -> (Untyped.Tensor, Untyped.Tensor)’\n    • Probable cause: ‘Untyped.sort’ is applied to too few arguments\n      In the second argument of ‘($)’, namely ‘Untyped.sort (toDynamic a) (toDynamic b)’\n      In the expression: UnsafeMkTensor $ Untyped.sort (toDynamic a) (toDynamic b)\n      In an equation for ‘sort’: sort a b = UnsafeMkTensor $ Untyped.sort (toDynamic a) (toDynamic b)\n<interactive>:5:57: error:\n    • Couldn't match expected type ‘Int’ with actual type ‘Untyped.Tensor’\n    • In the second argument of ‘Untyped.sort’, namely ‘(toDynamic b)’\n      In the second argument of ‘($)’, namely ‘Untyped.sort (toDynamic a) (toDynamic b)’\n      In the expression: UnsafeMkTensor $ Untyped.sort (toDynamic a) (toDynamic b)"
     ]
    }
   ],
   "source": [
    "boxes :: Tensor '(CPU,0) 'Double '[4]\n",
    "boxes = fromJust [2,0,3,1]\n",
    "\n",
    "\n",
    "sort boxes"
   ]
  }
 ],
 "metadata": {
  "kernelspec": {
   "display_name": "Haskell",
   "language": "haskell",
   "name": "haskell"
  },
  "language_info": {
   "codemirror_mode": "ihaskell",
   "file_extension": ".hs",
   "mimetype": "text/x-haskell",
   "name": "haskell",
   "pygments_lexer": "Haskell",
   "version": "8.10.4"
  }
 },
 "nbformat": 4,
 "nbformat_minor": 5
}
